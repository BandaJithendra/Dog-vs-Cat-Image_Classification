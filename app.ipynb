{
 "cells": [
  {
   "cell_type": "code",
   "execution_count": 2,
   "metadata": {},
   "outputs": [],
   "source": [
    "import numpy as np # linear algebra\n",
    "import pandas as pd # data processing, CSV file I/O (e.g. pd.read_csv)\n",
    "import matplotlib.pyplot as plt\n",
    "import seaborn as sns\n",
    "from PIL import Image\n",
    "from numpy import asarray"
   ]
  },
  {
   "cell_type": "code",
   "execution_count": 3,
   "metadata": {},
   "outputs": [],
   "source": [
    "import os\n",
    "for dirname, _, filenames in os.walk('/archive/fruits-360'):\n",
    "    for filename in filenames:\n",
    "        print(os.path.join(dirname, filename))"
   ]
  },
  {
   "cell_type": "code",
   "execution_count": 4,
   "metadata": {},
   "outputs": [
    {
     "name": "stdout",
     "output_type": "stream",
     "text": [
      "WARNING:tensorflow:From c:\\Python311\\Lib\\site-packages\\keras\\src\\losses.py:2976: The name tf.losses.sparse_softmax_cross_entropy is deprecated. Please use tf.compat.v1.losses.sparse_softmax_cross_entropy instead.\n",
      "\n"
     ]
    }
   ],
   "source": [
    "from keras.models import Sequential, load_model\n",
    "from keras import layers\n",
    "from keras.layers import Conv2D, MaxPooling2D, Activation, Dropout, Flatten, Dense\n",
    "from keras.preprocessing import image\n",
    "from keras.preprocessing.image import ImageDataGenerator, img_to_array, load_img"
   ]
  },
  {
   "cell_type": "code",
   "execution_count": 5,
   "metadata": {},
   "outputs": [],
   "source": [
    "train_path = \"D:/Gundu/DeepLearning_Projects/Dog-Cat_Classification/train/Training data/\"\n",
    "test_path = \"D:/Gundu/DeepLearning_Projects/Dog-Cat_Classification/train/Test data/\"\n",
    "# path = \"D:/Gundu/DeepLearning_Projects/Dog-Cat_Classification/train\""
   ]
  },
  {
   "cell_type": "code",
   "execution_count": 6,
   "metadata": {},
   "outputs": [],
   "source": [
    "classes = os.listdir(train_path) \n",
    "# classes"
   ]
  },
  {
   "cell_type": "code",
   "execution_count": 7,
   "metadata": {},
   "outputs": [
    {
     "data": {
      "text/plain": [
       "array([[[149, 155, 152],\n",
       "        [146, 138, 130],\n",
       "        [141, 120, 106],\n",
       "        [137, 117, 106],\n",
       "        [142, 122, 109]],\n",
       "\n",
       "       [[120, 124, 120],\n",
       "        [118, 111, 101],\n",
       "        [145, 123, 106],\n",
       "        [125,  98,  81],\n",
       "        [112,  88,  69]],\n",
       "\n",
       "       [[ 79,  78,  68],\n",
       "        [ 72,  66,  52],\n",
       "        [121, 104,  88],\n",
       "        [ 95,  79,  61],\n",
       "        [ 94,  79,  59]],\n",
       "\n",
       "       [[116, 111,  98],\n",
       "        [130, 125, 116],\n",
       "        [155, 149, 138],\n",
       "        [164, 160, 149],\n",
       "        [155, 151, 139]],\n",
       "\n",
       "       [[174, 167, 161],\n",
       "        [186, 181, 178],\n",
       "        [199, 199, 199],\n",
       "        [203, 204, 207],\n",
       "        [201, 204, 208]]], dtype=uint8)"
      ]
     },
     "execution_count": 7,
     "metadata": {},
     "output_type": "execute_result"
    }
   ],
   "source": [
    "t = Image.open(train_path+classes[0])\n",
    "t1 = t.resize((5,5))\n",
    "t2 = asarray(t1)\n",
    "t2"
   ]
  },
  {
   "cell_type": "code",
   "execution_count": 8,
   "metadata": {},
   "outputs": [
    {
     "data": {
      "text/plain": [
       "'D:/Gundu/DeepLearning_Projects/Dog-Cat_Classification/train/Training data/cat_10.jpg'"
      ]
     },
     "execution_count": 8,
     "metadata": {},
     "output_type": "execute_result"
    }
   ],
   "source": [
    "train_path+classes[0]"
   ]
  },
  {
   "cell_type": "code",
   "execution_count": 9,
   "metadata": {},
   "outputs": [],
   "source": [
    "train_images = np.array([])\n",
    "train_labels = np.array([])\n",
    "list_ = []\n",
    "list_2 = []\n",
    "# train_images = asarray(train_images)\n",
    "# idx=0\n",
    "for i in classes:\n",
    "    if i[:3]==\"cat\":\n",
    "        list_2.append([0])\n",
    "    else:\n",
    "        list_2.append([1])\n",
    "    img = Image.open(train_path + i)\n",
    "    img = img.resize((32,32))\n",
    "    data = asarray(img)\n",
    "    # print(data.shape)\n",
    "    list_.append(data)"
   ]
  },
  {
   "cell_type": "code",
   "execution_count": 10,
   "metadata": {},
   "outputs": [
    {
     "data": {
      "text/plain": [
       "(32, 32, 3)"
      ]
     },
     "execution_count": 10,
     "metadata": {},
     "output_type": "execute_result"
    }
   ],
   "source": [
    "list_[0].shape"
   ]
  },
  {
   "cell_type": "code",
   "execution_count": 78,
   "metadata": {},
   "outputs": [],
   "source": [
    "# Converting images list into numpy array\n",
    "train_images = np.array(list_)"
   ]
  },
  {
   "cell_type": "code",
   "execution_count": 79,
   "metadata": {},
   "outputs": [],
   "source": [
    "# Converting labels list into numpy array\n",
    "train_labels = np.array(list_2)\n",
    "# train_labels"
   ]
  },
  {
   "cell_type": "code",
   "execution_count": 80,
   "metadata": {},
   "outputs": [],
   "source": [
    "from sklearn.utils import shuffle\n",
    "train_images, train_labels = shuffle(train_images,train_labels)"
   ]
  },
  {
   "cell_type": "code",
   "execution_count": 81,
   "metadata": {},
   "outputs": [],
   "source": [
    "dump_train_lables = np.array([])\n",
    "dump_train_lables = train_labels"
   ]
  },
  {
   "cell_type": "code",
   "execution_count": 82,
   "metadata": {},
   "outputs": [],
   "source": [
    "train_labels = train_labels.reshape(-1)"
   ]
  },
  {
   "cell_type": "code",
   "execution_count": 83,
   "metadata": {},
   "outputs": [
    {
     "data": {
      "text/plain": [
       "numpy.ndarray"
      ]
     },
     "execution_count": 83,
     "metadata": {},
     "output_type": "execute_result"
    }
   ],
   "source": [
    "type(train_images)"
   ]
  },
  {
   "cell_type": "code",
   "execution_count": 84,
   "metadata": {},
   "outputs": [
    {
     "data": {
      "text/plain": [
       "(556, 32, 32, 3)"
      ]
     },
     "execution_count": 84,
     "metadata": {},
     "output_type": "execute_result"
    }
   ],
   "source": [
    "train_images.shape"
   ]
  },
  {
   "cell_type": "code",
   "execution_count": 85,
   "metadata": {},
   "outputs": [],
   "source": [
    "test_classes = os.listdir(test_path) "
   ]
  },
  {
   "cell_type": "code",
   "execution_count": 86,
   "metadata": {},
   "outputs": [],
   "source": [
    "catagories = ['cat','dog']"
   ]
  },
  {
   "cell_type": "code",
   "execution_count": 87,
   "metadata": {},
   "outputs": [],
   "source": [
    "test_images = np.array([])\n",
    "test_labels = np.array([])\n",
    "test_img_list = []\n",
    "test_label_list = []\n",
    "# train_images = asarray(train_images)\n",
    "# idx=0\n",
    "for i in test_classes:\n",
    "    if i[:3]==\"cat\":\n",
    "        test_label_list.append([0])\n",
    "    else:\n",
    "        test_label_list.append([1])\n",
    "    img = Image.open(test_path + i)\n",
    "    img = img.resize((32,32))\n",
    "    data = asarray(img)\n",
    "    # print(data.shape)\n",
    "    test_img_list.append(data)"
   ]
  },
  {
   "cell_type": "code",
   "execution_count": 88,
   "metadata": {},
   "outputs": [],
   "source": [
    "test_images = np.array(test_img_list)\n",
    "test_labels = np.array(test_label_list)"
   ]
  },
  {
   "cell_type": "code",
   "execution_count": 89,
   "metadata": {},
   "outputs": [],
   "source": [
    "test_images, test_labels = shuffle(test_images,test_labels)"
   ]
  },
  {
   "cell_type": "code",
   "execution_count": 90,
   "metadata": {},
   "outputs": [],
   "source": [
    "test_labels = test_labels.reshape(-1)"
   ]
  },
  {
   "cell_type": "code",
   "execution_count": 91,
   "metadata": {},
   "outputs": [
    {
     "data": {
      "text/plain": [
       "(140, 32, 32, 3)"
      ]
     },
     "execution_count": 91,
     "metadata": {},
     "output_type": "execute_result"
    }
   ],
   "source": [
    "test_images.shape"
   ]
  },
  {
   "cell_type": "code",
   "execution_count": 92,
   "metadata": {},
   "outputs": [],
   "source": [
    "train_images,test_images = train_images/255.0,test_images/255.0"
   ]
  },
  {
   "cell_type": "code",
   "execution_count": 93,
   "metadata": {},
   "outputs": [
    {
     "data": {
      "text/plain": [
       "array([[[[0.30980392, 0.30196078, 0.32156863],\n",
       "         [0.22352941, 0.21960784, 0.23529412],\n",
       "         [0.25490196, 0.25098039, 0.2627451 ],\n",
       "         ...,\n",
       "         [0.1372549 , 0.14117647, 0.14901961],\n",
       "         [0.16862745, 0.16862745, 0.18823529],\n",
       "         [0.1372549 , 0.1372549 , 0.14509804]],\n",
       "\n",
       "        [[0.4       , 0.4       , 0.43921569],\n",
       "         [0.36470588, 0.36862745, 0.41176471],\n",
       "         [0.34117647, 0.35294118, 0.39215686],\n",
       "         ...,\n",
       "         [0.20784314, 0.20784314, 0.22745098],\n",
       "         [0.22352941, 0.21960784, 0.23921569],\n",
       "         [0.16862745, 0.16470588, 0.18431373]],\n",
       "\n",
       "        [[0.31764706, 0.31764706, 0.34117647],\n",
       "         [0.19215686, 0.20392157, 0.23137255],\n",
       "         [0.14509804, 0.16470588, 0.19215686],\n",
       "         ...,\n",
       "         [0.25882353, 0.25882353, 0.28627451],\n",
       "         [0.27843137, 0.27843137, 0.30588235],\n",
       "         [0.26666667, 0.26666667, 0.30196078]],\n",
       "\n",
       "        ...,\n",
       "\n",
       "        [[0.56862745, 0.55686275, 0.51764706],\n",
       "         [0.55686275, 0.55686275, 0.54117647],\n",
       "         [0.3372549 , 0.25098039, 0.18823529],\n",
       "         ...,\n",
       "         [0.39215686, 0.29411765, 0.18039216],\n",
       "         [0.49803922, 0.39215686, 0.2745098 ],\n",
       "         [0.71764706, 0.60784314, 0.46666667]],\n",
       "\n",
       "        [[0.62352941, 0.60392157, 0.55686275],\n",
       "         [0.57254902, 0.57647059, 0.57647059],\n",
       "         [0.42352941, 0.40784314, 0.40392157],\n",
       "         ...,\n",
       "         [0.68627451, 0.59215686, 0.45490196],\n",
       "         [0.58431373, 0.46666667, 0.32941176],\n",
       "         [0.71372549, 0.6       , 0.4627451 ]],\n",
       "\n",
       "        [[0.6627451 , 0.63921569, 0.59215686],\n",
       "         [0.56078431, 0.56862745, 0.57647059],\n",
       "         [0.45882353, 0.4745098 , 0.51372549],\n",
       "         ...,\n",
       "         [0.87843137, 0.84313725, 0.76470588],\n",
       "         [0.76862745, 0.68627451, 0.58039216],\n",
       "         [0.76470588, 0.67058824, 0.56078431]]],\n",
       "\n",
       "\n",
       "       [[[1.        , 0.76078431, 0.88235294],\n",
       "         [1.        , 0.76078431, 0.88235294],\n",
       "         [1.        , 0.76078431, 0.88235294],\n",
       "         ...,\n",
       "         [1.        , 0.76078431, 0.88235294],\n",
       "         [1.        , 0.76078431, 0.88235294],\n",
       "         [1.        , 0.76078431, 0.88235294]],\n",
       "\n",
       "        [[1.        , 0.76078431, 0.88235294],\n",
       "         [1.        , 0.76078431, 0.88235294],\n",
       "         [1.        , 0.76078431, 0.88235294],\n",
       "         ...,\n",
       "         [1.        , 0.76078431, 0.88235294],\n",
       "         [1.        , 0.76078431, 0.88235294],\n",
       "         [1.        , 0.76078431, 0.88235294]],\n",
       "\n",
       "        [[1.        , 0.76078431, 0.88235294],\n",
       "         [1.        , 0.76078431, 0.88235294],\n",
       "         [1.        , 0.76078431, 0.88235294],\n",
       "         ...,\n",
       "         [1.        , 0.76078431, 0.88235294],\n",
       "         [1.        , 0.76078431, 0.88235294],\n",
       "         [1.        , 0.76078431, 0.88235294]],\n",
       "\n",
       "        ...,\n",
       "\n",
       "        [[1.        , 0.76078431, 0.88235294],\n",
       "         [1.        , 0.76078431, 0.88235294],\n",
       "         [1.        , 0.76078431, 0.88235294],\n",
       "         ...,\n",
       "         [1.        , 0.76078431, 0.88235294],\n",
       "         [1.        , 0.76078431, 0.88235294],\n",
       "         [1.        , 0.76078431, 0.88235294]],\n",
       "\n",
       "        [[1.        , 0.76078431, 0.88235294],\n",
       "         [1.        , 0.76078431, 0.88235294],\n",
       "         [1.        , 0.76078431, 0.88235294],\n",
       "         ...,\n",
       "         [1.        , 0.76078431, 0.88235294],\n",
       "         [1.        , 0.76078431, 0.88235294],\n",
       "         [1.        , 0.76078431, 0.88235294]],\n",
       "\n",
       "        [[1.        , 0.76078431, 0.88235294],\n",
       "         [1.        , 0.76078431, 0.88235294],\n",
       "         [1.        , 0.76078431, 0.88235294],\n",
       "         ...,\n",
       "         [1.        , 0.76078431, 0.88235294],\n",
       "         [1.        , 0.76078431, 0.88235294],\n",
       "         [1.        , 0.76078431, 0.88235294]]],\n",
       "\n",
       "\n",
       "       [[[0.69411765, 0.59215686, 0.45490196],\n",
       "         [0.70980392, 0.60392157, 0.46666667],\n",
       "         [0.72941176, 0.61176471, 0.47843137],\n",
       "         ...,\n",
       "         [0.72941176, 0.61176471, 0.47843137],\n",
       "         [0.71764706, 0.6       , 0.46666667],\n",
       "         [0.70980392, 0.59215686, 0.45882353]],\n",
       "\n",
       "        [[0.69803922, 0.59607843, 0.45882353],\n",
       "         [0.71764706, 0.61176471, 0.4745098 ],\n",
       "         [0.73333333, 0.61568627, 0.48235294],\n",
       "         ...,\n",
       "         [0.73333333, 0.61568627, 0.48235294],\n",
       "         [0.7254902 , 0.60784314, 0.4745098 ],\n",
       "         [0.71372549, 0.59607843, 0.4627451 ]],\n",
       "\n",
       "        [[0.70980392, 0.60392157, 0.46666667],\n",
       "         [0.7254902 , 0.61568627, 0.47843137],\n",
       "         [0.7372549 , 0.61960784, 0.48627451],\n",
       "         ...,\n",
       "         [0.7372549 , 0.61960784, 0.48627451],\n",
       "         [0.72941176, 0.61176471, 0.47843137],\n",
       "         [0.71764706, 0.6       , 0.46666667]],\n",
       "\n",
       "        ...,\n",
       "\n",
       "        [[0.73333333, 0.61568627, 0.48235294],\n",
       "         [0.74117647, 0.62352941, 0.49019608],\n",
       "         [0.75294118, 0.63529412, 0.50196078],\n",
       "         ...,\n",
       "         [0.75686275, 0.63921569, 0.50588235],\n",
       "         [0.74509804, 0.62745098, 0.49411765],\n",
       "         [0.7372549 , 0.61960784, 0.48627451]],\n",
       "\n",
       "        [[0.73333333, 0.61568627, 0.48235294],\n",
       "         [0.74117647, 0.62352941, 0.49019608],\n",
       "         [0.74901961, 0.63137255, 0.49803922],\n",
       "         ...,\n",
       "         [0.75686275, 0.63921569, 0.50588235],\n",
       "         [0.74509804, 0.62745098, 0.49411765],\n",
       "         [0.7372549 , 0.61960784, 0.48627451]],\n",
       "\n",
       "        [[0.73333333, 0.61568627, 0.48235294],\n",
       "         [0.7372549 , 0.61960784, 0.48627451],\n",
       "         [0.74509804, 0.62745098, 0.49411765],\n",
       "         ...,\n",
       "         [0.75294118, 0.63529412, 0.50196078],\n",
       "         [0.74117647, 0.62352941, 0.49019608],\n",
       "         [0.73333333, 0.61568627, 0.48235294]]],\n",
       "\n",
       "\n",
       "       ...,\n",
       "\n",
       "\n",
       "       [[[1.        , 1.        , 1.        ],\n",
       "         [1.        , 1.        , 1.        ],\n",
       "         [1.        , 1.        , 1.        ],\n",
       "         ...,\n",
       "         [1.        , 1.        , 1.        ],\n",
       "         [1.        , 1.        , 1.        ],\n",
       "         [1.        , 1.        , 1.        ]],\n",
       "\n",
       "        [[1.        , 1.        , 1.        ],\n",
       "         [1.        , 1.        , 1.        ],\n",
       "         [1.        , 1.        , 1.        ],\n",
       "         ...,\n",
       "         [1.        , 1.        , 1.        ],\n",
       "         [1.        , 1.        , 1.        ],\n",
       "         [1.        , 1.        , 1.        ]],\n",
       "\n",
       "        [[1.        , 1.        , 1.        ],\n",
       "         [1.        , 1.        , 1.        ],\n",
       "         [1.        , 1.        , 1.        ],\n",
       "         ...,\n",
       "         [1.        , 1.        , 1.        ],\n",
       "         [1.        , 1.        , 1.        ],\n",
       "         [1.        , 1.        , 1.        ]],\n",
       "\n",
       "        ...,\n",
       "\n",
       "        [[0.99607843, 0.98823529, 0.99215686],\n",
       "         [0.99607843, 0.98823529, 0.99215686],\n",
       "         [0.99607843, 0.98823529, 0.99215686],\n",
       "         ...,\n",
       "         [0.99215686, 0.98431373, 0.98823529],\n",
       "         [0.99215686, 0.98431373, 0.98823529],\n",
       "         [0.99215686, 0.98431373, 0.98823529]],\n",
       "\n",
       "        [[0.99607843, 0.98823529, 0.98823529],\n",
       "         [0.99607843, 0.98823529, 0.99215686],\n",
       "         [0.99607843, 0.98823529, 0.98823529],\n",
       "         ...,\n",
       "         [0.99215686, 0.98431373, 0.98431373],\n",
       "         [0.99215686, 0.98431373, 0.98431373],\n",
       "         [0.99215686, 0.98431373, 0.98431373]],\n",
       "\n",
       "        [[0.99215686, 0.98823529, 0.98039216],\n",
       "         [0.99607843, 0.99215686, 0.98431373],\n",
       "         [0.99607843, 0.99215686, 0.98431373],\n",
       "         ...,\n",
       "         [0.99215686, 0.98823529, 0.98039216],\n",
       "         [0.98823529, 0.98431373, 0.97647059],\n",
       "         [0.98823529, 0.98431373, 0.97647059]]],\n",
       "\n",
       "\n",
       "       [[[0.70196078, 0.56470588, 0.45882353],\n",
       "         [0.83921569, 0.69019608, 0.57254902],\n",
       "         [0.82745098, 0.68627451, 0.57254902],\n",
       "         ...,\n",
       "         [0.91372549, 0.84313725, 0.76470588],\n",
       "         [0.90196078, 0.83137255, 0.75294118],\n",
       "         [0.89019608, 0.8       , 0.70980392]],\n",
       "\n",
       "        [[0.72941176, 0.56862745, 0.45490196],\n",
       "         [0.83921569, 0.70196078, 0.57647059],\n",
       "         [0.85098039, 0.70980392, 0.59215686],\n",
       "         ...,\n",
       "         [0.91372549, 0.84313725, 0.76470588],\n",
       "         [0.90196078, 0.82745098, 0.74901961],\n",
       "         [0.87843137, 0.79607843, 0.70588235]],\n",
       "\n",
       "        [[0.70588235, 0.54117647, 0.42352941],\n",
       "         [0.8       , 0.64705882, 0.5254902 ],\n",
       "         [0.85098039, 0.70588235, 0.58431373],\n",
       "         ...,\n",
       "         [0.91372549, 0.84313725, 0.76470588],\n",
       "         [0.90196078, 0.82745098, 0.74901961],\n",
       "         [0.8745098 , 0.78823529, 0.69803922]],\n",
       "\n",
       "        ...,\n",
       "\n",
       "        [[0.56470588, 0.43137255, 0.30588235],\n",
       "         [0.57647059, 0.44705882, 0.36078431],\n",
       "         [0.38823529, 0.28627451, 0.22745098],\n",
       "         ...,\n",
       "         [0.51764706, 0.38039216, 0.30980392],\n",
       "         [0.47843137, 0.34509804, 0.27843137],\n",
       "         [0.45882353, 0.33333333, 0.26666667]],\n",
       "\n",
       "        [[0.45882353, 0.32156863, 0.19607843],\n",
       "         [0.43137255, 0.30980392, 0.24705882],\n",
       "         [0.3254902 , 0.22745098, 0.18431373],\n",
       "         ...,\n",
       "         [0.4627451 , 0.33333333, 0.2745098 ],\n",
       "         [0.43529412, 0.31372549, 0.25882353],\n",
       "         [0.41960784, 0.30196078, 0.24313725]],\n",
       "\n",
       "        [[0.43137255, 0.30588235, 0.16470588],\n",
       "         [0.29019608, 0.19607843, 0.16078431],\n",
       "         [0.29803922, 0.20784314, 0.16862745],\n",
       "         ...,\n",
       "         [0.49803922, 0.36470588, 0.29803922],\n",
       "         [0.4745098 , 0.34509804, 0.28627451],\n",
       "         [0.43529412, 0.31764706, 0.2627451 ]]],\n",
       "\n",
       "\n",
       "       [[[0.04313725, 0.07843137, 0.20392157],\n",
       "         [0.01176471, 0.04313725, 0.25490196],\n",
       "         [0.02352941, 0.11372549, 0.25882353],\n",
       "         ...,\n",
       "         [0.14901961, 0.2627451 , 0.41960784],\n",
       "         [0.00392157, 0.05490196, 0.25098039],\n",
       "         [0.00392157, 0.00392157, 0.17254902]],\n",
       "\n",
       "        [[0.09411765, 0.14509804, 0.21960784],\n",
       "         [0.00392157, 0.01960784, 0.16470588],\n",
       "         [0.03529412, 0.10588235, 0.23137255],\n",
       "         ...,\n",
       "         [0.02745098, 0.14117647, 0.27058824],\n",
       "         [0.00784314, 0.10196078, 0.27058824],\n",
       "         [0.        , 0.03921569, 0.20784314]],\n",
       "\n",
       "        [[0.2745098 , 0.29411765, 0.30196078],\n",
       "         [0.        , 0.03137255, 0.08235294],\n",
       "         [0.04705882, 0.12941176, 0.24705882],\n",
       "         ...,\n",
       "         [0.05098039, 0.17254902, 0.39607843],\n",
       "         [0.00784314, 0.09803922, 0.25882353],\n",
       "         [0.02352941, 0.09803922, 0.22745098]],\n",
       "\n",
       "        ...,\n",
       "\n",
       "        [[0.61568627, 0.60784314, 0.58039216],\n",
       "         [0.50588235, 0.5254902 , 0.51764706],\n",
       "         [0.54509804, 0.55294118, 0.55294118],\n",
       "         ...,\n",
       "         [0.55686275, 0.59215686, 0.58823529],\n",
       "         [0.51764706, 0.55294118, 0.54901961],\n",
       "         [0.45098039, 0.48627451, 0.48235294]],\n",
       "\n",
       "        [[0.58431373, 0.58823529, 0.56078431],\n",
       "         [0.54117647, 0.56470588, 0.55686275],\n",
       "         [0.60392157, 0.61568627, 0.60784314],\n",
       "         ...,\n",
       "         [0.52156863, 0.55686275, 0.55294118],\n",
       "         [0.47843137, 0.51372549, 0.50980392],\n",
       "         [0.41960784, 0.45098039, 0.44705882]],\n",
       "\n",
       "        [[0.52156863, 0.52941176, 0.51764706],\n",
       "         [0.51372549, 0.53333333, 0.5254902 ],\n",
       "         [0.58431373, 0.59607843, 0.59215686],\n",
       "         ...,\n",
       "         [0.50196078, 0.5372549 , 0.53333333],\n",
       "         [0.45882353, 0.49411765, 0.49019608],\n",
       "         [0.40392157, 0.43921569, 0.43529412]]]])"
      ]
     },
     "execution_count": 93,
     "metadata": {},
     "output_type": "execute_result"
    }
   ],
   "source": [
    "train_images"
   ]
  },
  {
   "cell_type": "code",
   "execution_count": 94,
   "metadata": {},
   "outputs": [],
   "source": [
    "# img = load_img(train_path + \"cat_9.jpg\")\n",
    "# plt.imshow(img)\n",
    "# plt.axis(\"on\")\n",
    "# plt.show()"
   ]
  },
  {
   "cell_type": "code",
   "execution_count": 95,
   "metadata": {},
   "outputs": [],
   "source": [
    "# plt.figure()\n",
    "# plt.imshow(train_images[0])\n",
    "# plt.colorbar()\n",
    "# plt.grid(False)\n",
    "# plt.show()"
   ]
  },
  {
   "cell_type": "code",
   "execution_count": 96,
   "metadata": {},
   "outputs": [],
   "source": [
    "def plot_sample(x,y,index):\n",
    "    plt.figure(figsize=(15,2))\n",
    "    plt.imshow(x[index])\n",
    "    plt.xlabel(catagories[y[index]])\n"
   ]
  },
  {
   "cell_type": "code",
   "execution_count": 97,
   "metadata": {},
   "outputs": [
    {
     "data": {
      "image/png": "[encoded data removed]",
      "text/plain": [
       "<Figure size 1500x200 with 1 Axes>"
      ]
     },
     "metadata": {},
     "output_type": "display_data"
    }
   ],
   "source": [
    "plot_sample(train_images,train_labels,0)"
   ]
  },
  {
   "cell_type": "code",
   "execution_count": 98,
   "metadata": {},
   "outputs": [
    {
     "data": {
      "image/png": "[encoded data removed]",
      "text/plain": [
       "<Figure size 1500x200 with 1 Axes>"
      ]
     },
     "metadata": {},
     "output_type": "display_data"
    }
   ],
   "source": [
    "plot_sample(train_images,train_labels,8)"
   ]
  },
  {
   "cell_type": "code",
   "execution_count": 99,
   "metadata": {},
   "outputs": [],
   "source": [
    "# dump_train_lables"
   ]
  },
  {
   "cell_type": "code",
   "execution_count": 100,
   "metadata": {},
   "outputs": [
    {
     "data": {
      "image/png": "[encoded data removed]",
      "text/plain": [
       "<Figure size 1000x1000 with 25 Axes>"
      ]
     },
     "metadata": {},
     "output_type": "display_data"
    }
   ],
   "source": [
    "class_names = ['cat','dog']\n",
    "plt.figure(figsize=(10,10))\n",
    "for i in range(25):\n",
    "    plt.subplot(5,5,i+1)\n",
    "    plt.xticks([])\n",
    "    plt.yticks([])\n",
    "    plt.grid(False)\n",
    "    plt.imshow(train_images[i],cmap=plt.cm.binary)\n",
    "    plt.xlabel(class_names[dump_train_lables[i][0]])\n",
    "plt.show()"
   ]
  },
  {
   "cell_type": "code",
   "execution_count": 140,
   "metadata": {},
   "outputs": [],
   "source": [
    "model = Sequential()\n",
    "model.add(Conv2D(64,(3,3),activation='relu',input_shape=(32,32,3)))\n",
    "model.add(MaxPooling2D(2,2))\n",
    "model.add(Conv2D(128,(3,3),activation='relu'))\n",
    "model.add(MaxPooling2D(2,2))\n",
    "model.add(Conv2D(128,(3,3),activation='relu'))\n",
    "model.add(MaxPooling2D(2,2))\n",
    "# model.add(Conv2D(32,(3,3),activation='softmax'))\n",
    "# model.add(MaxPooling2D(2,2))\n",
    "# model.add(Conv2D(64,(3,3),activation='softmax'))\n",
    "# model.add(MaxPooling2D(2,2))\n",
    "# model.add(Conv2D(64,(3,3),activation='relu',padding='same'))\n",
    "# model.add(MaxPooling2D(2,2))\n",
    "# model.add(Conv2D(64,(3,3),activation='relu'))\n",
    "# model.add(MaxPooling2D(2,2))"
   ]
  },
  {
   "cell_type": "code",
   "execution_count": 141,
   "metadata": {},
   "outputs": [
    {
     "name": "stdout",
     "output_type": "stream",
     "text": [
      "Model: \"sequential_3\"\n",
      "_________________________________________________________________\n",
      " Layer (type)                Output Shape              Param #   \n",
      "=================================================================\n",
      " conv2d_9 (Conv2D)           (None, 30, 30, 64)        1792      \n",
      "                                                                 \n",
      " max_pooling2d_9 (MaxPoolin  (None, 15, 15, 64)        0         \n",
      " g2D)                                                            \n",
      "                                                                 \n",
      " conv2d_10 (Conv2D)          (None, 13, 13, 128)       73856     \n",
      "                                                                 \n",
      " max_pooling2d_10 (MaxPooli  (None, 6, 6, 128)         0         \n",
      " ng2D)                                                           \n",
      "                                                                 \n",
      " conv2d_11 (Conv2D)          (None, 4, 4, 128)         147584    \n",
      "                                                                 \n",
      " max_pooling2d_11 (MaxPooli  (None, 2, 2, 128)         0         \n",
      " ng2D)                                                           \n",
      "                                                                 \n",
      "=================================================================\n",
      "Total params: 223232 (872.00 KB)\n",
      "Trainable params: 223232 (872.00 KB)\n",
      "Non-trainable params: 0 (0.00 Byte)\n",
      "_________________________________________________________________\n"
     ]
    }
   ],
   "source": [
    "model.summary()"
   ]
  },
  {
   "cell_type": "code",
   "execution_count": 142,
   "metadata": {},
   "outputs": [],
   "source": [
    "model.add(layers.Flatten())\n",
    "model.add(layers.Dense(10,activation='relu'))\n",
    "# model.add(Dropout(0.1))\n",
    "model.add(Dense(10,activation='relu'))\n",
    "# model.add(layers.Dense(2,activation='softmax'))\n",
    "model.add(Dense(4,activation='relu'))\n",
    "model.add(Dense(2,activation='softmax'))"
   ]
  },
  {
   "cell_type": "code",
   "execution_count": 143,
   "metadata": {},
   "outputs": [
    {
     "name": "stdout",
     "output_type": "stream",
     "text": [
      "Model: \"sequential_3\"\n",
      "_________________________________________________________________\n",
      " Layer (type)                Output Shape              Param #   \n",
      "=================================================================\n",
      " conv2d_9 (Conv2D)           (None, 30, 30, 64)        1792      \n",
      "                                                                 \n",
      " max_pooling2d_9 (MaxPoolin  (None, 15, 15, 64)        0         \n",
      " g2D)                                                            \n",
      "                                                                 \n",
      " conv2d_10 (Conv2D)          (None, 13, 13, 128)       73856     \n",
      "                                                                 \n",
      " max_pooling2d_10 (MaxPooli  (None, 6, 6, 128)         0         \n",
      " ng2D)                                                           \n",
      "                                                                 \n",
      " conv2d_11 (Conv2D)          (None, 4, 4, 128)         147584    \n",
      "                                                                 \n",
      " max_pooling2d_11 (MaxPooli  (None, 2, 2, 128)         0         \n",
      " ng2D)                                                           \n",
      "                                                                 \n",
      " flatten_4 (Flatten)         (None, 512)               0         \n",
      "                                                                 \n",
      " dense_14 (Dense)            (None, 10)                5130      \n",
      "                                                                 \n",
      " dense_15 (Dense)            (None, 10)                110       \n",
      "                                                                 \n",
      " dense_16 (Dense)            (None, 4)                 44        \n",
      "                                                                 \n",
      " dense_17 (Dense)            (None, 2)                 10        \n",
      "                                                                 \n",
      "=================================================================\n",
      "Total params: 228526 (892.68 KB)\n",
      "Trainable params: 228526 (892.68 KB)\n",
      "Non-trainable params: 0 (0.00 Byte)\n",
      "_________________________________________________________________\n"
     ]
    }
   ],
   "source": [
    "model.summary()"
   ]
  },
  {
   "cell_type": "code",
   "execution_count": 144,
   "metadata": {},
   "outputs": [],
   "source": [
    "import tensorflow as tf"
   ]
  },
  {
   "cell_type": "code",
   "execution_count": 145,
   "metadata": {},
   "outputs": [],
   "source": [
    "model.compile(optimizer='adam',\n",
    "              loss='sparse_categorical_crossentropy',\n",
    "              metrics = ['accuracy'])"
   ]
  },
  {
   "cell_type": "code",
   "execution_count": 146,
   "metadata": {},
   "outputs": [
    {
     "data": {
      "image/png": "[encoded data removed]",
      "text/plain": [
       "<Figure size 1500x200 with 1 Axes>"
      ]
     },
     "metadata": {},
     "output_type": "display_data"
    }
   ],
   "source": [
    "plot_sample(test_images,test_labels,45)"
   ]
  },
  {
   "cell_type": "code",
   "execution_count": 147,
   "metadata": {},
   "outputs": [
    {
     "name": "stdout",
     "output_type": "stream",
     "text": [
      "Epoch 1/50\n",
      "18/18 [==============================] - 3s 46ms/step - loss: 0.6944 - accuracy: 0.4946 - val_loss: 0.6932 - val_accuracy: 0.5000\n",
      "Epoch 2/50\n",
      "18/18 [==============================] - 1s 30ms/step - loss: 0.6932 - accuracy: 0.5018 - val_loss: 0.6932 - val_accuracy: 0.5000\n",
      "Epoch 3/50\n",
      "18/18 [==============================] - 1s 32ms/step - loss: 0.6932 - accuracy: 0.5018 - val_loss: 0.6932 - val_accuracy: 0.5000\n",
      "Epoch 4/50\n",
      "18/18 [==============================] - 1s 50ms/step - loss: 0.6931 - accuracy: 0.5018 - val_loss: 0.6932 - val_accuracy: 0.5000\n",
      "Epoch 5/50\n",
      "18/18 [==============================] - 1s 45ms/step - loss: 0.6932 - accuracy: 0.5018 - val_loss: 0.6932 - val_accuracy: 0.5000\n",
      "Epoch 6/50\n",
      "18/18 [==============================] - 1s 35ms/step - loss: 0.6932 - accuracy: 0.5018 - val_loss: 0.6932 - val_accuracy: 0.5000\n",
      "Epoch 7/50\n",
      "18/18 [==============================] - 1s 30ms/step - loss: 0.6932 - accuracy: 0.5018 - val_loss: 0.6932 - val_accuracy: 0.5000\n",
      "Epoch 8/50\n",
      "18/18 [==============================] - 1s 50ms/step - loss: 0.6932 - accuracy: 0.5018 - val_loss: 0.6932 - val_accuracy: 0.5000\n",
      "Epoch 9/50\n",
      "18/18 [==============================] - 1s 52ms/step - loss: 0.6931 - accuracy: 0.5018 - val_loss: 0.6932 - val_accuracy: 0.5000\n",
      "Epoch 10/50\n",
      "18/18 [==============================] - 1s 39ms/step - loss: 0.6932 - accuracy: 0.5018 - val_loss: 0.6932 - val_accuracy: 0.5000\n",
      "Epoch 11/50\n",
      "18/18 [==============================] - 1s 43ms/step - loss: 0.6932 - accuracy: 0.5018 - val_loss: 0.6932 - val_accuracy: 0.5000\n",
      "Epoch 12/50\n",
      "18/18 [==============================] - 1s 64ms/step - loss: 0.6932 - accuracy: 0.5018 - val_loss: 0.6932 - val_accuracy: 0.5000\n",
      "Epoch 13/50\n",
      "18/18 [==============================] - 1s 30ms/step - loss: 0.6932 - accuracy: 0.5018 - val_loss: 0.6932 - val_accuracy: 0.5000\n",
      "Epoch 14/50\n",
      "18/18 [==============================] - 1s 35ms/step - loss: 0.6932 - accuracy: 0.5018 - val_loss: 0.6932 - val_accuracy: 0.5000\n",
      "Epoch 15/50\n",
      "18/18 [==============================] - 1s 41ms/step - loss: 0.6932 - accuracy: 0.5018 - val_loss: 0.6932 - val_accuracy: 0.5000\n",
      "Epoch 16/50\n",
      "18/18 [==============================] - 1s 40ms/step - loss: 0.6932 - accuracy: 0.5018 - val_loss: 0.6932 - val_accuracy: 0.5000\n",
      "Epoch 17/50\n",
      "18/18 [==============================] - 1s 39ms/step - loss: 0.6932 - accuracy: 0.5018 - val_loss: 0.6932 - val_accuracy: 0.5000\n",
      "Epoch 18/50\n",
      "18/18 [==============================] - 1s 35ms/step - loss: 0.6932 - accuracy: 0.5018 - val_loss: 0.6932 - val_accuracy: 0.5000\n",
      "Epoch 19/50\n",
      "18/18 [==============================] - 1s 34ms/step - loss: 0.6932 - accuracy: 0.5018 - val_loss: 0.6932 - val_accuracy: 0.5000\n",
      "Epoch 20/50\n",
      "18/18 [==============================] - 1s 34ms/step - loss: 0.6932 - accuracy: 0.5018 - val_loss: 0.6932 - val_accuracy: 0.5000\n",
      "Epoch 21/50\n",
      "18/18 [==============================] - 1s 32ms/step - loss: 0.6932 - accuracy: 0.5018 - val_loss: 0.6932 - val_accuracy: 0.5000\n",
      "Epoch 22/50\n",
      "18/18 [==============================] - 1s 32ms/step - loss: 0.6932 - accuracy: 0.5018 - val_loss: 0.6932 - val_accuracy: 0.5000\n",
      "Epoch 23/50\n",
      "18/18 [==============================] - 1s 33ms/step - loss: 0.6932 - accuracy: 0.5018 - val_loss: 0.6932 - val_accuracy: 0.5000\n",
      "Epoch 24/50\n",
      "18/18 [==============================] - 1s 33ms/step - loss: 0.6931 - accuracy: 0.5018 - val_loss: 0.6932 - val_accuracy: 0.5000\n",
      "Epoch 25/50\n",
      "18/18 [==============================] - 1s 34ms/step - loss: 0.6932 - accuracy: 0.5018 - val_loss: 0.6932 - val_accuracy: 0.5000\n",
      "Epoch 26/50\n",
      "18/18 [==============================] - 1s 37ms/step - loss: 0.6932 - accuracy: 0.5018 - val_loss: 0.6932 - val_accuracy: 0.5000\n",
      "Epoch 27/50\n",
      "18/18 [==============================] - 1s 40ms/step - loss: 0.6932 - accuracy: 0.5018 - val_loss: 0.6932 - val_accuracy: 0.5000\n",
      "Epoch 28/50\n",
      "18/18 [==============================] - 1s 40ms/step - loss: 0.6932 - accuracy: 0.5018 - val_loss: 0.6932 - val_accuracy: 0.5000\n",
      "Epoch 29/50\n",
      "18/18 [==============================] - 1s 40ms/step - loss: 0.6932 - accuracy: 0.5018 - val_loss: 0.6932 - val_accuracy: 0.5000\n",
      "Epoch 30/50\n",
      "18/18 [==============================] - 1s 41ms/step - loss: 0.6932 - accuracy: 0.5018 - val_loss: 0.6931 - val_accuracy: 0.5000\n",
      "Epoch 31/50\n",
      "18/18 [==============================] - 1s 38ms/step - loss: 0.6932 - accuracy: 0.5018 - val_loss: 0.6932 - val_accuracy: 0.5000\n",
      "Epoch 32/50\n",
      "18/18 [==============================] - 1s 38ms/step - loss: 0.6932 - accuracy: 0.5018 - val_loss: 0.6931 - val_accuracy: 0.5000\n",
      "Epoch 33/50\n",
      "18/18 [==============================] - 1s 38ms/step - loss: 0.6932 - accuracy: 0.5018 - val_loss: 0.6931 - val_accuracy: 0.5000\n",
      "Epoch 34/50\n",
      "18/18 [==============================] - 1s 35ms/step - loss: 0.6933 - accuracy: 0.5018 - val_loss: 0.6932 - val_accuracy: 0.5000\n",
      "Epoch 35/50\n",
      "18/18 [==============================] - 1s 35ms/step - loss: 0.6932 - accuracy: 0.5018 - val_loss: 0.6932 - val_accuracy: 0.5000\n",
      "Epoch 36/50\n",
      "18/18 [==============================] - 1s 35ms/step - loss: 0.6933 - accuracy: 0.4802 - val_loss: 0.6931 - val_accuracy: 0.5000\n",
      "Epoch 37/50\n",
      "18/18 [==============================] - 1s 35ms/step - loss: 0.6932 - accuracy: 0.4838 - val_loss: 0.6931 - val_accuracy: 0.5000\n",
      "Epoch 38/50\n",
      "18/18 [==============================] - 1s 36ms/step - loss: 0.6932 - accuracy: 0.5018 - val_loss: 0.6931 - val_accuracy: 0.5000\n",
      "Epoch 39/50\n",
      "18/18 [==============================] - 1s 40ms/step - loss: 0.6932 - accuracy: 0.4802 - val_loss: 0.6931 - val_accuracy: 0.5000\n",
      "Epoch 40/50\n",
      "18/18 [==============================] - 1s 51ms/step - loss: 0.6932 - accuracy: 0.4802 - val_loss: 0.6931 - val_accuracy: 0.5000\n",
      "Epoch 41/50\n",
      "18/18 [==============================] - 1s 47ms/step - loss: 0.6932 - accuracy: 0.5018 - val_loss: 0.6932 - val_accuracy: 0.5000\n",
      "Epoch 42/50\n",
      "18/18 [==============================] - 1s 41ms/step - loss: 0.6932 - accuracy: 0.5018 - val_loss: 0.6932 - val_accuracy: 0.5000\n",
      "Epoch 43/50\n",
      "18/18 [==============================] - 1s 39ms/step - loss: 0.6932 - accuracy: 0.5018 - val_loss: 0.6932 - val_accuracy: 0.5000\n",
      "Epoch 44/50\n",
      "18/18 [==============================] - 1s 49ms/step - loss: 0.6932 - accuracy: 0.5018 - val_loss: 0.6932 - val_accuracy: 0.5000\n",
      "Epoch 45/50\n",
      "18/18 [==============================] - 1s 45ms/step - loss: 0.6932 - accuracy: 0.5018 - val_loss: 0.6932 - val_accuracy: 0.5000\n",
      "Epoch 46/50\n",
      "18/18 [==============================] - 1s 45ms/step - loss: 0.6932 - accuracy: 0.5018 - val_loss: 0.6932 - val_accuracy: 0.5000\n",
      "Epoch 47/50\n",
      "18/18 [==============================] - 1s 35ms/step - loss: 0.6932 - accuracy: 0.5018 - val_loss: 0.6932 - val_accuracy: 0.5000\n",
      "Epoch 48/50\n",
      "18/18 [==============================] - 1s 43ms/step - loss: 0.6932 - accuracy: 0.5018 - val_loss: 0.6932 - val_accuracy: 0.5000\n",
      "Epoch 49/50\n",
      "18/18 [==============================] - 1s 56ms/step - loss: 0.6932 - accuracy: 0.5018 - val_loss: 0.6932 - val_accuracy: 0.5000\n",
      "Epoch 50/50\n",
      "18/18 [==============================] - 1s 55ms/step - loss: 0.6932 - accuracy: 0.5018 - val_loss: 0.6932 - val_accuracy: 0.5000\n"
     ]
    }
   ],
   "source": [
    "# Train the model\n",
    "history = model.fit(train_images,train_labels,epochs=50,validation_data=(test_images,test_labels)\n",
    "                    )"
   ]
  },
  {
   "cell_type": "code",
   "execution_count": 109,
   "metadata": {},
   "outputs": [],
   "source": [
    "import matplotlib.pyplot as plt"
   ]
  },
  {
   "cell_type": "code",
   "execution_count": 110,
   "metadata": {},
   "outputs": [
    {
     "data": {
      "text/plain": [
       "<matplotlib.legend.Legend at 0x1998e7f6110>"
      ]
     },
     "execution_count": 110,
     "metadata": {},
     "output_type": "execute_result"
    },
    {
     "data": {
      "image/png": "[encoded data removed]",
      "text/plain": [
       "<Figure size 640x480 with 1 Axes>"
      ]
     },
     "metadata": {},
     "output_type": "display_data"
    }
   ],
   "source": [
    "plt.plot(history.history['accuracy'],label ='accuracy')\n",
    "plt.plot(history.history['val_accuracy'],label ='val_accuracy')\n",
    "plt.xlabel('Epoch')\n",
    "plt.ylabel('Accuracy')\n",
    "plt.ylim([0,1])\n",
    "plt.legend(loc='upper right')"
   ]
  },
  {
   "cell_type": "code",
   "execution_count": 111,
   "metadata": {},
   "outputs": [],
   "source": [
    "from sklearn.metrics import accuracy_score, classification_report"
   ]
  },
  {
   "cell_type": "code",
   "execution_count": 112,
   "metadata": {},
   "outputs": [
    {
     "name": "stdout",
     "output_type": "stream",
     "text": [
      "5/5 - 0s - loss: 2.2754 - accuracy: 0.6143 - 115ms/epoch - 23ms/step\n"
     ]
    }
   ],
   "source": [
    "test_acc = model.evaluate(test_images,test_labels,verbose=2)"
   ]
  },
  {
   "cell_type": "code",
   "execution_count": 113,
   "metadata": {},
   "outputs": [
    {
     "name": "stdout",
     "output_type": "stream",
     "text": [
      "[2.2754104137420654, 0.6142857074737549]\n"
     ]
    }
   ],
   "source": [
    "print(test_acc)"
   ]
  },
  {
   "cell_type": "code",
   "execution_count": 114,
   "metadata": {},
   "outputs": [
    {
     "name": "stdout",
     "output_type": "stream",
     "text": [
      "5/5 [==============================] - 0s 12ms/step\n"
     ]
    }
   ],
   "source": [
    "pred_values = model.predict(test_images)"
   ]
  },
  {
   "cell_type": "code",
   "execution_count": 115,
   "metadata": {},
   "outputs": [
    {
     "data": {
      "text/plain": [
       "array([[1.02655925e-01, 8.97344112e-01],\n",
       "       [1.10957719e-01, 8.89042258e-01],\n",
       "       [9.99998569e-01, 1.42673696e-06],\n",
       "       [9.60888445e-01, 3.91115509e-02],\n",
       "       [9.99902964e-01, 9.69816756e-05]], dtype=float32)"
      ]
     },
     "execution_count": 115,
     "metadata": {},
     "output_type": "execute_result"
    }
   ],
   "source": [
    "pred_values[:5]"
   ]
  },
  {
   "cell_type": "code",
   "execution_count": 116,
   "metadata": {},
   "outputs": [],
   "source": [
    "pred_classes = [np.argmax(e) for e in pred_values]"
   ]
  },
  {
   "cell_type": "code",
   "execution_count": 117,
   "metadata": {},
   "outputs": [
    {
     "name": "stdout",
     "output_type": "stream",
     "text": [
      "              precision    recall  f1-score   support\n",
      "\n",
      "           0       0.60      0.69      0.64        70\n",
      "           1       0.63      0.54      0.58        70\n",
      "\n",
      "    accuracy                           0.61       140\n",
      "   macro avg       0.62      0.61      0.61       140\n",
      "weighted avg       0.62      0.61      0.61       140\n",
      "\n"
     ]
    }
   ],
   "source": [
    "print(classification_report(test_labels,pred_classes))"
   ]
  },
  {
   "cell_type": "code",
   "execution_count": 118,
   "metadata": {},
   "outputs": [
    {
     "data": {
      "text/plain": [
       "array([1, 1, 0, 1, 1])"
      ]
     },
     "execution_count": 118,
     "metadata": {},
     "output_type": "execute_result"
    }
   ],
   "source": [
    "test_labels[:5]"
   ]
  },
  {
   "cell_type": "code",
   "execution_count": 119,
   "metadata": {},
   "outputs": [
    {
     "data": {
      "text/plain": [
       "[1, 1, 0, 0, 0]"
      ]
     },
     "execution_count": 119,
     "metadata": {},
     "output_type": "execute_result"
    }
   ],
   "source": [
    "pred_classes[:5]"
   ]
  },
  {
   "cell_type": "code",
   "execution_count": 120,
   "metadata": {},
   "outputs": [
    {
     "data": {
      "text/plain": [
       "[1, 0, 0, 1, 0, 0, 0, 1, 0, 0]"
      ]
     },
     "execution_count": 120,
     "metadata": {},
     "output_type": "execute_result"
    }
   ],
   "source": [
    "pred_classes[130:]"
   ]
  },
  {
   "cell_type": "code",
   "execution_count": 121,
   "metadata": {},
   "outputs": [
    {
     "data": {
      "text/plain": [
       "array([1, 0, 0, 0, 0, 1, 1, 1, 0, 0])"
      ]
     },
     "execution_count": 121,
     "metadata": {},
     "output_type": "execute_result"
    }
   ],
   "source": [
    "test_labels[130:]"
   ]
  },
  {
   "cell_type": "code",
   "execution_count": 122,
   "metadata": {},
   "outputs": [],
   "source": [
    "# train_labels = train_labels.reshape(-1)"
   ]
  },
  {
   "cell_type": "code",
   "execution_count": 123,
   "metadata": {},
   "outputs": [
    {
     "data": {
      "image/png": "[encoded data removed]",
      "text/plain": [
       "<Figure size 1500x200 with 1 Axes>"
      ]
     },
     "metadata": {},
     "output_type": "display_data"
    }
   ],
   "source": [
    "# Actual Value\n",
    "plot_sample(test_images,test_labels,1)"
   ]
  },
  {
   "cell_type": "code",
   "execution_count": 124,
   "metadata": {},
   "outputs": [
    {
     "data": {
      "text/plain": [
       "'dog'"
      ]
     },
     "execution_count": 124,
     "metadata": {},
     "output_type": "execute_result"
    }
   ],
   "source": [
    "catagories[pred_classes[1]]"
   ]
  },
  {
   "cell_type": "code",
   "execution_count": 125,
   "metadata": {},
   "outputs": [
    {
     "name": "stdout",
     "output_type": "stream",
     "text": [
      "18/18 [==============================] - 0s 12ms/step\n"
     ]
    }
   ],
   "source": [
    "yhat = model.predict(train_images)"
   ]
  },
  {
   "cell_type": "code",
   "execution_count": 126,
   "metadata": {},
   "outputs": [
    {
     "data": {
      "text/plain": [
       "array([[9.98919368e-01, 1.08062336e-03],\n",
       "       [9.99999881e-01, 1.46579509e-07],\n",
       "       [5.02123403e-05, 9.99949813e-01],\n",
       "       ...,\n",
       "       [9.95902717e-01, 4.09727590e-03],\n",
       "       [9.99883175e-01, 1.16864845e-04],\n",
       "       [3.87983077e-04, 9.99612033e-01]], dtype=float32)"
      ]
     },
     "execution_count": 126,
     "metadata": {},
     "output_type": "execute_result"
    }
   ],
   "source": [
    "yhat"
   ]
  },
  {
   "cell_type": "code",
   "execution_count": 127,
   "metadata": {},
   "outputs": [
    {
     "data": {
      "image/png": "[encoded data removed]",
      "text/plain": [
       "<Figure size 1500x200 with 1 Axes>"
      ]
     },
     "metadata": {},
     "output_type": "display_data"
    }
   ],
   "source": [
    "plot_sample(train_images,train_labels,300)"
   ]
  },
  {
   "cell_type": "code",
   "execution_count": 128,
   "metadata": {},
   "outputs": [],
   "source": [
    "train_pred_classes = [np.argmax(e) for e in yhat]"
   ]
  },
  {
   "cell_type": "code",
   "execution_count": 129,
   "metadata": {},
   "outputs": [
    {
     "data": {
      "text/plain": [
       "'dog'"
      ]
     },
     "execution_count": 129,
     "metadata": {},
     "output_type": "execute_result"
    }
   ],
   "source": [
    "catagories[train_pred_classes[300]]"
   ]
  },
  {
   "cell_type": "code",
   "execution_count": 130,
   "metadata": {},
   "outputs": [],
   "source": [
    "# keras_file=\"Model.h5\"\n",
    "# tf.keras.models.save_model(model,keras_file)"
   ]
  },
  {
   "cell_type": "code",
   "execution_count": null,
   "metadata": {},
   "outputs": [
    {
     "name": "stdout",
     "output_type": "stream",
     "text": [
      "1/1 [==============================] - 0s 155ms/step\n",
      "cat\n"
     ]
    }
   ],
   "source": [
    "\n",
    "#create new file test.py and run this file\n",
    "# from tensorflow.keras.models import load_model\n",
    "# from tensorflow.keras.preprocessing import image\n",
    "# from tensorflow.keras.applications.vgg16 import preprocess_input, decode_predictions\n",
    "# import numpy as np\n",
    "# load saved model\n",
    "\n",
    "model1 = load_model(\"Model.h5\")\n",
    "# model1.evaluate(test_images,test_labels)\n",
    "\n",
    "img_path = \"cat_5.jpg\"\n",
    "img = image.load_img(img_path, target_size=(32, 32))\n",
    "x = image.img_to_array(img)\n",
    "x = np.expand_dims(x,axis=0)\n",
    "x = preprocess_input(x)\n",
    "preds=model1.predict(x)\n",
    "# # create a list containing the class labels\n",
    "class_labels = ['cat','dog']\n",
    "# # find the index of the class with maximum score\n",
    "pred = np.argmax(preds, axis=-1)\n",
    "# print(pred)\n",
    "# # print the label of the class with maximum score\n",
    "print(class_labels[pred[0]])"
   ]
  }
 ],
 "metadata": {
  "kernelspec": {
   "display_name": "Python 3",
   "language": "python",
   "name": "python3"
  },
  "language_info": {
   "codemirror_mode": {
    "name": "ipython",
    "version": 3
   },
   "file_extension": ".py",
   "mimetype": "text/x-python",
   "name": "python",
   "nbconvert_exporter": "python",
   "pygments_lexer": "ipython3",
   "version": "3.11.1"
  }
 },
 "nbformat": 4,
 "nbformat_minor": 2
}
